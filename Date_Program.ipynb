{
  "nbformat": 4,
  "nbformat_minor": 0,
  "metadata": {
    "colab": {
      "provenance": [],
      "authorship_tag": "ABX9TyOzdv0oJvG0BHCmPaUxmblo",
      "include_colab_link": true
    },
    "kernelspec": {
      "name": "python3",
      "display_name": "Python 3"
    },
    "language_info": {
      "name": "python"
    }
  },
  "cells": [
    {
      "cell_type": "markdown",
      "metadata": {
        "id": "view-in-github",
        "colab_type": "text"
      },
      "source": [
        "<a href=\"https://colab.research.google.com/github/kaitlynsalvicruz/BTE320-Portfolio/blob/main/Date_Program.ipynb\" target=\"_parent\"><img src=\"https://colab.research.google.com/assets/colab-badge.svg\" alt=\"Open In Colab\"/></a>"
      ]
    },
    {
      "cell_type": "markdown",
      "source": [
        "#Date Program\n",
        "Design a program that asks a user for todays date (Enter date: )\n",
        "- The user must provide the input in this format: MM/DD/YYYY\n",
        "- Create a variable for month, day, and year\n"
      ],
      "metadata": {
        "id": "nAq-ZSnD-74v"
      }
    },
    {
      "cell_type": "code",
      "execution_count": 9,
      "metadata": {
        "colab": {
          "base_uri": "https://localhost:8080/"
        },
        "id": "ajJX8YEO-7k0",
        "outputId": "89f5f5f1-61cb-4b23-c81a-6003bb15c54a"
      },
      "outputs": [
        {
          "output_type": "stream",
          "name": "stdout",
          "text": [
            "Enter a date (MM/DD/YYYY): 02/21/2024\n",
            "The month you entered is: 02\n",
            "The day you entered is 21\n",
            "The year you entered is 2024\n"
          ]
        }
      ],
      "source": [
        "user_input = input(\"Enter a date (MM/DD/YYYY): \")\n",
        "month = user_input[:2]\n",
        "day = user_input[3:5]\n",
        "year = user_input[6:]\n",
        "print(f'The month you entered is: {month}\\nThe day you entered is {day}\\nThe year you entered is {year}')"
      ]
    }
  ]
}